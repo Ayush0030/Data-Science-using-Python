{
 "cells": [
  {
   "cell_type": "code",
   "execution_count": 1,
   "metadata": {},
   "outputs": [],
   "source": [
    "import scipy.integrate as integrate\n",
    "import numpy as np"
   ]
  },
  {
   "cell_type": "code",
   "execution_count": 3,
   "metadata": {},
   "outputs": [],
   "source": [
    "#dblquad\n",
    "#integrate.dblquad(function,a ,b  ,g_func   ,h_func  )"
   ]
  },
  {
   "cell_type": "code",
   "execution_count": 5,
   "metadata": {
    "scrolled": true
   },
   "outputs": [
    {
     "name": "stdout",
     "output_type": "stream",
     "text": [
      "Help on function dblquad in module scipy.integrate.quadpack:\n",
      "\n",
      "dblquad(func, a, b, gfun, hfun, args=(), epsabs=1.49e-08, epsrel=1.49e-08)\n",
      "    Compute a double integral.\n",
      "    \n",
      "    Return the double (definite) integral of ``func(y, x)`` from ``x = a..b``\n",
      "    and ``y = gfun(x)..hfun(x)``.\n",
      "    \n",
      "    Parameters\n",
      "    ----------\n",
      "    func : callable\n",
      "        A Python function or method of at least two variables: y must be the\n",
      "        first argument and x the second argument.\n",
      "    a, b : float\n",
      "        The limits of integration in x: `a` < `b`\n",
      "    gfun : callable or float\n",
      "        The lower boundary curve in y which is a function taking a single\n",
      "        floating point argument (x) and returning a floating point result\n",
      "        or a float indicating a constant boundary curve.\n",
      "    hfun : callable or float\n",
      "        The upper boundary curve in y (same requirements as `gfun`).\n",
      "    args : sequence, optional\n",
      "        Extra arguments to pass to `func`.\n",
      "    epsabs : float, optional\n",
      "        Absolute tolerance passed directly to the inner 1-D quadrature\n",
      "        integration. Default is 1.49e-8. `dblquad`` tries to obtain\n",
      "        an accuracy of ``abs(i-result) <= max(epsabs, epsrel*abs(i))``\n",
      "        where ``i`` = inner integral of ``func(y, x)`` from ``gfun(x)``\n",
      "        to ``hfun(x)``, and ``result`` is the numerical approximation.\n",
      "        See `epsrel` below.\n",
      "    epsrel : float, optional\n",
      "        Relative tolerance of the inner 1-D integrals. Default is 1.49e-8.\n",
      "        If ``epsabs <= 0``, `epsrel` must be greater than both 5e-29\n",
      "        and ``50 * (machine epsilon)``. See `epsabs` above.\n",
      "    \n",
      "    Returns\n",
      "    -------\n",
      "    y : float\n",
      "        The resultant integral.\n",
      "    abserr : float\n",
      "        An estimate of the error.\n",
      "    \n",
      "    See also\n",
      "    --------\n",
      "    quad : single integral\n",
      "    tplquad : triple integral\n",
      "    nquad : N-dimensional integrals\n",
      "    fixed_quad : fixed-order Gaussian quadrature\n",
      "    quadrature : adaptive Gaussian quadrature\n",
      "    odeint : ODE integrator\n",
      "    ode : ODE integrator\n",
      "    simps : integrator for sampled data\n",
      "    romb : integrator for sampled data\n",
      "    scipy.special : for coefficients and roots of orthogonal polynomials\n",
      "    \n",
      "    Examples\n",
      "    --------\n",
      "    \n",
      "    Compute the double integral of ``x * y**2`` over the box\n",
      "    ``x`` ranging from 0 to 2 and ``y`` ranging from 0 to 1.\n",
      "    \n",
      "    >>> from scipy import integrate\n",
      "    >>> f = lambda y, x: x*y**2\n",
      "    >>> integrate.dblquad(f, 0, 2, lambda x: 0, lambda x: 1)\n",
      "        (0.6666666666666667, 7.401486830834377e-15)\n",
      "\n"
     ]
    }
   ],
   "source": [
    "help(integrate.dblquad)"
   ]
  },
  {
   "cell_type": "code",
   "execution_count": 9,
   "metadata": {},
   "outputs": [
    {
     "data": {
      "text/plain": [
       "(0.5, 1.7092350012594845e-14)"
      ]
     },
     "execution_count": 9,
     "metadata": {},
     "output_type": "execute_result"
    }
   ],
   "source": [
    "first=lambda x,y:16*x*y\n",
    "#second\n",
    "g_func=lambda x: 0\n",
    "h_func=lambda y:np.sqrt(1-4*y**2)\n",
    "    \n",
    "integrate.dblquad(first,0,0.5,g_func,h_func)"
   ]
  },
  {
   "cell_type": "code",
   "execution_count": 10,
   "metadata": {},
   "outputs": [
    {
     "data": {
      "text/plain": [
       "(0.33333333333333326, 1.3125184411111567e-14)"
      ]
     },
     "execution_count": 10,
     "metadata": {},
     "output_type": "execute_result"
    }
   ],
   "source": [
    "first=lambda x,y:16*x*y\n",
    "#second\n",
    "g_func=lambda y:1-2*y\n",
    "h_func=lambda y:np.sqrt(1-4*y**2)\n",
    "    \n",
    "integrate.dblquad(first,0,0.5,g_func,h_func)"
   ]
  },
  {
   "cell_type": "markdown",
   "metadata": {},
   "source": [
    "##### linalg"
   ]
  },
  {
   "cell_type": "code",
   "execution_count": 11,
   "metadata": {},
   "outputs": [],
   "source": [
    "from scipy import linalg"
   ]
  },
  {
   "cell_type": "code",
   "execution_count": 15,
   "metadata": {
    "scrolled": true
   },
   "outputs": [
    {
     "name": "stdout",
     "output_type": "stream",
     "text": [
      "[[ 1  3 10]\n",
      " [ 2 12  7]\n",
      " [ 5  8  8]]\n",
      "[[10]\n",
      " [18]\n",
      " [30]]\n"
     ]
    },
    {
     "data": {
      "text/plain": [
       "array([[4.55393586],\n",
       "       [0.51311953],\n",
       "       [0.39067055]])"
      ]
     },
     "execution_count": 15,
     "metadata": {},
     "output_type": "execute_result"
    }
   ],
   "source": [
    "A=np.array([[1,3,10],[2,12,7],[5,8,8]])\n",
    "B=np.array([[10],[18],[30]])\n",
    "print(A)\n",
    "print(B)\n",
    "X=linalg.solve(A,B)\n",
    "X"
   ]
  },
  {
   "cell_type": "code",
   "execution_count": 16,
   "metadata": {
    "scrolled": true
   },
   "outputs": [
    {
     "data": {
      "text/plain": [
       "array([[0.],\n",
       "       [0.],\n",
       "       [0.]])"
      ]
     },
     "execution_count": 16,
     "metadata": {},
     "output_type": "execute_result"
    }
   ],
   "source": [
    "np.dot(A,X)-B"
   ]
  },
  {
   "cell_type": "code",
   "execution_count": 18,
   "metadata": {},
   "outputs": [
    {
     "data": {
      "text/plain": [
       "-22.0"
      ]
     },
     "execution_count": 18,
     "metadata": {},
     "output_type": "execute_result"
    }
   ],
   "source": [
    "a=np.array([[-2,3],[4,5]])\n",
    "linalg.det(a)"
   ]
  },
  {
   "cell_type": "code",
   "execution_count": 19,
   "metadata": {},
   "outputs": [
    {
     "data": {
      "text/plain": [
       "array([[-0.22727273,  0.13636364],\n",
       "       [ 0.18181818,  0.09090909]])"
      ]
     },
     "execution_count": 19,
     "metadata": {},
     "output_type": "execute_result"
    }
   ],
   "source": [
    "b=linalg.inv(a)\n",
    "b"
   ]
  },
  {
   "cell_type": "code",
   "execution_count": 20,
   "metadata": {},
   "outputs": [
    {
     "data": {
      "text/plain": [
       "array([[1., 0.],\n",
       "       [0., 1.]])"
      ]
     },
     "execution_count": 20,
     "metadata": {},
     "output_type": "execute_result"
    }
   ],
   "source": [
    "np.dot(a,b)"
   ]
  }
 ],
 "metadata": {
  "kernelspec": {
   "display_name": "Python 3",
   "language": "python",
   "name": "python3"
  },
  "language_info": {
   "codemirror_mode": {
    "name": "ipython",
    "version": 3
   },
   "file_extension": ".py",
   "mimetype": "text/x-python",
   "name": "python",
   "nbconvert_exporter": "python",
   "pygments_lexer": "ipython3",
   "version": "3.8.5"
  }
 },
 "nbformat": 4,
 "nbformat_minor": 4
}
