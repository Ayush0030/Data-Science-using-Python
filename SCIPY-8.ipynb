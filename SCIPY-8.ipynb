{
 "cells": [
  {
   "cell_type": "code",
   "execution_count": 1,
   "metadata": {},
   "outputs": [],
   "source": [
    "import numpy as np\n",
    "import matplotlib.pyplot as plt\n",
    "import scipy.optimize as optimize\n"
   ]
  },
  {
   "cell_type": "code",
   "execution_count": 3,
   "metadata": {},
   "outputs": [
    {
     "data": {
      "image/png": "[encoded data removed]",
      "text/plain": [
       "<Figure size 432x288 with 1 Axes>"
      ]
     },
     "metadata": {
      "needs_background": "light"
     },
     "output_type": "display_data"
    },
    {
     "name": "stdout",
     "output_type": "stream",
     "text": [
      "      fun: -7.945823375615215\n",
      " hess_inv: array([[0.08589237]])\n",
      "      jac: array([-1.1920929e-06])\n",
      "  message: 'Optimization terminated successfully.'\n",
      "     nfev: 12\n",
      "      nit: 5\n",
      "     njev: 6\n",
      "   status: 0\n",
      "  success: True\n",
      "        x: array([-1.30644012])\n"
     ]
    }
   ],
   "source": [
    "def f(x):\n",
    "    return x**2 + 10*np.sin(x)\n",
    "x=np.arange(-10,10,0.1)\n",
    "plt.plot(x,f(x))\n",
    "plt.show()\n",
    "\n",
    "optimized_min_value=optimize.minimize(f,x0=0)\n",
    "print(optimized_min_value)"
   ]
  },
  {
   "cell_type": "code",
   "execution_count": 4,
   "metadata": {
    "scrolled": true
   },
   "outputs": [
    {
     "data": {
      "text/plain": [
       "array([-1.30644012])"
      ]
     },
     "execution_count": 4,
     "metadata": {},
     "output_type": "execute_result"
    }
   ],
   "source": [
    "optimized_min_value.x"
   ]
  },
  {
   "cell_type": "markdown",
   "metadata": {},
   "source": [
    "##### INPUT AND OUTPUT\n"
   ]
  },
  {
   "cell_type": "code",
   "execution_count": 6,
   "metadata": {},
   "outputs": [],
   "source": [
    "import scipy.io as sio"
   ]
  },
  {
   "cell_type": "code",
   "execution_count": null,
   "metadata": {},
   "outputs": [],
   "source": [
    "ARFF, IDL, MATLAB, MATRIX MARKET, NETCDF, WAVE"
   ]
  },
  {
   "cell_type": "markdown",
   "metadata": {},
   "source": [
    "##### scipy.io\n",
    "\n",
    "ARFF-->ATTRIBUTE RELATION FILE FORMAT (NUMERIAL, STRING DATA, MISSING DATA,\n",
    "                                       SPARSE DATA)\n",
    "(STANDARD DATA FILE FORMAT FOR WEKA)\n",
    "\n",
    "**SCIPY ONLY SUPPORTS FILE READING METHOD FOR ARFF \n",
    "\n",
    "\n",
    "\n",
    "SCIPY.IO.ARFF\n",
    "\n"
   ]
  },
  {
   "cell_type": "code",
   "execution_count": null,
   "metadata": {},
   "outputs": [],
   "source": [
    "#sio.loadarff(file _name,path)"
   ]
  },
  {
   "cell_type": "markdown",
   "metadata": {},
   "source": [
    "##### IDL --> .sav extension\n",
    "readsav(file_name,[dictionary])\n"
   ]
  },
  {
   "cell_type": "markdown",
   "metadata": {},
   "source": [
    "#####  MATLAB\n",
    "\n",
    ".mat\n",
    "loadmat(file_name,{dict}) -->Loading a file\n",
    "\n",
    "savemat(file_name,{dict})--> Saving\n",
    "\n",
    "whosmat(file_name)--> To get the list variables inside the file"
   ]
  },
  {
   "cell_type": "code",
   "execution_count": 10,
   "metadata": {},
   "outputs": [
    {
     "data": {
      "text/plain": [
       "{'__header__': b'MATLAB 5.0 MAT-file Platform: nt, Created on: Fri Jun  4 15:12:12 2021',\n",
       " '__version__': '1.0',\n",
       " '__globals__': [],\n",
       " 'Upasana': array([[0, 1, 2, 3, 4]])}"
      ]
     },
     "execution_count": 10,
     "metadata": {},
     "output_type": "execute_result"
    }
   ],
   "source": [
    "Upasana=np.arange(5)\n",
    "sio.savemat('Tammana.mat',{'Upasana':Upasana})\n",
    "\n",
    "Vinayak=sio.loadmat('Tammana.mat')\n",
    "Vinayak"
   ]
  },
  {
   "cell_type": "code",
   "execution_count": 11,
   "metadata": {},
   "outputs": [
    {
     "name": "stdout",
     "output_type": "stream",
     "text": [
      "[('Upasana', (1, 5), 'int32')]\n"
     ]
    }
   ],
   "source": [
    "matlab_file_whosmat=sio.whosmat('Tammana.mat')\n",
    "print(matlab_file_whosmat)"
   ]
  },
  {
   "cell_type": "markdown",
   "metadata": {},
   "source": [
    "##### Matrix market files\n",
    "\n",
    "mminfo-->Size and Storage info\n",
    "mmread--> data read\n",
    "mmwrite--> writing the data"
   ]
  },
  {
   "cell_type": "markdown",
   "metadata": {},
   "source": [
    "##### NEtcdf\n",
    "netcdf_file(filename)"
   ]
  },
  {
   "cell_type": "markdown",
   "metadata": {},
   "source": [
    "##### Wav Files\n",
    "wav\n",
    "\n",
    "sipy.io.wavFile\n",
    "\n",
    "read\n",
    "write(filename, rate, data)"
   ]
  },
  {
   "cell_type": "code",
   "execution_count": 16,
   "metadata": {},
   "outputs": [
    {
     "name": "stdout",
     "output_type": "stream",
     "text": [
      "{'__header__': b'MATLAB 5.0 MAT-file Platform: nt, Created on: Fri Jun  4 15:22:34 2021', '__version__': '1.0', '__globals__': [], 'ayush': array([[1., 1., 1.],\n",
      "       [1., 1., 1.],\n",
      "       [1., 1., 1.]])}\n"
     ]
    },
    {
     "data": {
      "text/plain": [
       "array([[1., 1., 1.],\n",
       "       [1., 1., 1.],\n",
       "       [1., 1., 1.]])"
      ]
     },
     "execution_count": 16,
     "metadata": {},
     "output_type": "execute_result"
    }
   ],
   "source": [
    "ayush=np.ones((3,3))\n",
    "ayush\n",
    "sio.savemat('myfile.mat',{'ayush':ayush})\n",
    "mymat=sio.loadmat('myfile.mat')\n",
    "print(mymat)\n",
    "mymat['ayush']"
   ]
  }
 ],
 "metadata": {
  "kernelspec": {
   "display_name": "Python 3",
   "language": "python",
   "name": "python3"
  },
  "language_info": {
   "codemirror_mode": {
    "name": "ipython",
    "version": 3
   },
   "file_extension": ".py",
   "mimetype": "text/x-python",
   "name": "python",
   "nbconvert_exporter": "python",
   "pygments_lexer": "ipython3",
   "version": "3.8.5"
  }
 },
 "nbformat": 4,
 "nbformat_minor": 4
}
