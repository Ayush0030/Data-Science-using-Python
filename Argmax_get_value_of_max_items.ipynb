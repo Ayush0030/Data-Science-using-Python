{
  "nbformat": 4,
  "nbformat_minor": 0,
  "metadata": {
    "colab": {
      "name": "Argmax_get_value_of_max_items.ipynb",
      "provenance": [],
      "collapsed_sections": []
    },
    "kernelspec": {
      "name": "python3",
      "display_name": "Python 3"
    },
    "language_info": {
      "name": "python"
    }
  },
  "cells": [
    {
      "cell_type": "markdown",
      "source": [
        "\"Argmax_get_value_of_max_items.ipynb\"\n",
        "\n",
        "Have used loops for printing the values at argmax returned indexes\n",
        "\n",
        "**Prefer loops cause argmax can return different row indexes depending upon the dataset**\n",
        "\n",
        "(it is not necessary that max value which be on the last row for every array in future)"
      ],
      "metadata": {
        "id": "1VVqZU3Ec5rZ"
      }
    },
    {
      "cell_type": "code",
      "execution_count": 1,
      "metadata": {
        "id": "ZAb2o-JOZNM9"
      },
      "outputs": [],
      "source": [
        "import numpy as np"
      ]
    },
    {
      "cell_type": "code",
      "source": [
        "arr3=np.arange(20).reshape(4,5)"
      ],
      "metadata": {
        "id": "jzLp4mA5ZWTw"
      },
      "execution_count": 3,
      "outputs": []
    },
    {
      "cell_type": "code",
      "source": [
        "arr3"
      ],
      "metadata": {
        "colab": {
          "base_uri": "https://localhost:8080/"
        },
        "id": "dZ5fylhfZZg7",
        "outputId": "156edace-a2d0-4186-af94-22762ec723f6"
      },
      "execution_count": 4,
      "outputs": [
        {
          "output_type": "execute_result",
          "data": {
            "text/plain": [
              "array([[ 0,  1,  2,  3,  4],\n",
              "       [ 5,  6,  7,  8,  9],\n",
              "       [10, 11, 12, 13, 14],\n",
              "       [15, 16, 17, 18, 19]])"
            ]
          },
          "metadata": {},
          "execution_count": 4
        }
      ]
    },
    {
      "cell_type": "code",
      "source": [
        "max=np.argmax(arr3,0)\n",
        "# By specifying zero we are telling numpy to row wise in each column and return the index of row where we found the max value\n",
        "# we were having 5 columns so out of each column we have the max value in the last row that is row_index=3 \n",
        "max"
      ],
      "metadata": {
        "colab": {
          "base_uri": "https://localhost:8080/"
        },
        "id": "BwsUSBWyZeuh",
        "outputId": "03e9b17f-c147-4b3e-c753-978b1671a4ee"
      },
      "execution_count": 5,
      "outputs": [
        {
          "output_type": "execute_result",
          "data": {
            "text/plain": [
              "array([3, 3, 3, 3, 3])"
            ]
          },
          "metadata": {},
          "execution_count": 5
        }
      ]
    },
    {
      "cell_type": "code",
      "source": [
        "arr3.shape[1]\n",
        "# It will give the number of columns in arr3"
      ],
      "metadata": {
        "colab": {
          "base_uri": "https://localhost:8080/"
        },
        "id": "YSsJMNTZZvYi",
        "outputId": "5eb09447-023d-4103-ad35-b433f2ab1177"
      },
      "execution_count": 6,
      "outputs": [
        {
          "output_type": "execute_result",
          "data": {
            "text/plain": [
              "5"
            ]
          },
          "metadata": {},
          "execution_count": 6
        }
      ]
    },
    {
      "cell_type": "code",
      "source": [
        "max\n",
        "# this is the indexes of rows where we found the max value in each column\n"
      ],
      "metadata": {
        "colab": {
          "base_uri": "https://localhost:8080/"
        },
        "id": "OzWPE8VyZ5wS",
        "outputId": "80dd19d3-2bf2-41dd-8cc4-16a61386f404"
      },
      "execution_count": 10,
      "outputs": [
        {
          "output_type": "execute_result",
          "data": {
            "text/plain": [
              "array([3, 3, 3, 3, 3])"
            ]
          },
          "metadata": {},
          "execution_count": 10
        }
      ]
    },
    {
      "cell_type": "code",
      "source": [
        "j=0\n",
        "for i in range(max.shape[0]):\n",
        "    # max.shape[0] gives the number of elements in the array \"max\" as it is 1-D\n",
        "    # Using a basic for loop which we give i=0, i=1, i=2, i=3\n",
        "    if(j<=arr3.shape[1]):\n",
        "        # Increase the j uptil the max numbe of columns in the arr3\n",
        "        print(arr3[max[i],j])\n",
        "        # print each item with row index returned by argmax and column value as resulted by j\n",
        "        j+=1\n",
        "        # increase value of j from 0 till (number_of_columns_in_arr3 - 1)after each execution\n"
      ],
      "metadata": {
        "colab": {
          "base_uri": "https://localhost:8080/"
        },
        "id": "bF5cLhoUZj-q",
        "outputId": "bd951e7f-e30e-42dd-a8a7-0542632792c9"
      },
      "execution_count": 18,
      "outputs": [
        {
          "output_type": "stream",
          "name": "stdout",
          "text": [
            "15\n",
            "16\n",
            "17\n",
            "18\n",
            "19\n"
          ]
        }
      ]
    },
    {
      "cell_type": "code",
      "source": [
        ""
      ],
      "metadata": {
        "id": "cm3DU_B6Z1SI"
      },
      "execution_count": null,
      "outputs": []
    }
  ]
}