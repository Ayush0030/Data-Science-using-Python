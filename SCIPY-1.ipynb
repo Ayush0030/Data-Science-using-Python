{
 "cells": [
  {
   "cell_type": "code",
   "execution_count": 1,
   "metadata": {},
   "outputs": [],
   "source": [
    "import scipy.special as special"
   ]
  },
  {
   "cell_type": "code",
   "execution_count": 3,
   "metadata": {
    "scrolled": true
   },
   "outputs": [
    {
     "name": "stdout",
     "output_type": "stream",
     "text": [
      "Help on function logsumexp in module scipy.special._logsumexp:\n",
      "\n",
      "logsumexp(a, axis=None, b=None, keepdims=False, return_sign=False)\n",
      "    Compute the log of the sum of exponentials of input elements.\n",
      "    \n",
      "    Parameters\n",
      "    ----------\n",
      "    a : array_like\n",
      "        Input array.\n",
      "    axis : None or int or tuple of ints, optional\n",
      "        Axis or axes over which the sum is taken. By default `axis` is None,\n",
      "        and all elements are summed.\n",
      "    \n",
      "        .. versionadded:: 0.11.0\n",
      "    keepdims : bool, optional\n",
      "        If this is set to True, the axes which are reduced are left in the\n",
      "        result as dimensions with size one. With this option, the result\n",
      "        will broadcast correctly against the original array.\n",
      "    \n",
      "        .. versionadded:: 0.15.0\n",
      "    b : array-like, optional\n",
      "        Scaling factor for exp(`a`) must be of the same shape as `a` or\n",
      "        broadcastable to `a`. These values may be negative in order to\n",
      "        implement subtraction.\n",
      "    \n",
      "        .. versionadded:: 0.12.0\n",
      "    return_sign : bool, optional\n",
      "        If this is set to True, the result will be a pair containing sign\n",
      "        information; if False, results that are negative will be returned\n",
      "        as NaN. Default is False (no sign information).\n",
      "    \n",
      "        .. versionadded:: 0.16.0\n",
      "    \n",
      "    Returns\n",
      "    -------\n",
      "    res : ndarray\n",
      "        The result, ``np.log(np.sum(np.exp(a)))`` calculated in a numerically\n",
      "        more stable way. If `b` is given then ``np.log(np.sum(b*np.exp(a)))``\n",
      "        is returned.\n",
      "    sgn : ndarray\n",
      "        If return_sign is True, this will be an array of floating-point\n",
      "        numbers matching res and +1, 0, or -1 depending on the sign\n",
      "        of the result. If False, only one result is returned.\n",
      "    \n",
      "    See Also\n",
      "    --------\n",
      "    numpy.logaddexp, numpy.logaddexp2\n",
      "    \n",
      "    Notes\n",
      "    -----\n",
      "    NumPy has a logaddexp function which is very similar to `logsumexp`, but\n",
      "    only handles two arguments. `logaddexp.reduce` is similar to this\n",
      "    function, but may be less stable.\n",
      "    \n",
      "    Examples\n",
      "    --------\n",
      "    >>> from scipy.special import logsumexp\n",
      "    >>> a = np.arange(10)\n",
      "    >>> np.log(np.sum(np.exp(a)))\n",
      "    9.4586297444267107\n",
      "    >>> logsumexp(a)\n",
      "    9.4586297444267107\n",
      "    \n",
      "    With weights\n",
      "    \n",
      "    >>> a = np.arange(10)\n",
      "    >>> b = np.arange(10, 0, -1)\n",
      "    >>> logsumexp(a, b=b)\n",
      "    9.9170178533034665\n",
      "    >>> np.log(np.sum(b*np.exp(a)))\n",
      "    9.9170178533034647\n",
      "    \n",
      "    Returning a sign flag\n",
      "    \n",
      "    >>> logsumexp([1,2],b=[1,-1],return_sign=True)\n",
      "    (1.5413248546129181, -1.0)\n",
      "    \n",
      "    Notice that `logsumexp` does not directly support masked arrays. To use it\n",
      "    on a masked array, convert the mask into zero weights:\n",
      "    \n",
      "    >>> a = np.ma.array([np.log(2), 2, np.log(3)],\n",
      "    ...                  mask=[False, True, False])\n",
      "    >>> b = (~a.mask).astype(int)\n",
      "    >>> logsumexp(a.data, b=b), np.log(5)\n",
      "    1.6094379124341005, 1.6094379124341005\n",
      "\n"
     ]
    }
   ],
   "source": [
    "help(special.logsumexp)"
   ]
  },
  {
   "cell_type": "code",
   "execution_count": 4,
   "metadata": {},
   "outputs": [
    {
     "data": {
      "text/plain": [
       "3.4076059644443806"
      ]
     },
     "execution_count": 4,
     "metadata": {},
     "output_type": "execute_result"
    }
   ],
   "source": [
    "special.logsumexp([1,2,3])"
   ]
  },
  {
   "cell_type": "code",
   "execution_count": 11,
   "metadata": {},
   "outputs": [
    {
     "name": "stdout",
     "output_type": "stream",
     "text": [
      "3.40760596444438\n",
      "2.6881171418161356e+43\n"
     ]
    }
   ],
   "source": [
    "import numpy as np\n",
    "print(np.log(np.sum(np.exp([1,2,3]))))\n",
    "print(np.exp(100))"
   ]
  },
  {
   "cell_type": "code",
   "execution_count": 23,
   "metadata": {},
   "outputs": [
    {
     "name": "stdout",
     "output_type": "stream",
     "text": [
      "200\n"
     ]
    }
   ],
   "source": [
    "def upasana_mul():\n",
    "    a=10;\n",
    "    b=20;\n",
    "    c=a*b;\n",
    "    print(c)\n",
    "    \n",
    "upasana_mul()\n",
    "\n",
    "#declare, define, call "
   ]
  },
  {
   "cell_type": "code",
   "execution_count": 17,
   "metadata": {},
   "outputs": [
    {
     "name": "stdout",
     "output_type": "stream",
     "text": [
      "5000\n"
     ]
    }
   ],
   "source": [
    "#notation of bigger function\n",
    "\n",
    "#lambda argument: expression\n",
    "\n",
    "Tammana=lambda x, y: x*y\n",
    "\n",
    "print(Tammana(500,10))"
   ]
  },
  {
   "cell_type": "code",
   "execution_count": 25,
   "metadata": {},
   "outputs": [
    {
     "data": {
      "text/plain": [
       "24.0"
      ]
     },
     "execution_count": 25,
     "metadata": {},
     "output_type": "execute_result"
    }
   ],
   "source": [
    "#factorial\n",
    "special.factorial(4)"
   ]
  },
  {
   "cell_type": "code",
   "execution_count": 27,
   "metadata": {},
   "outputs": [
    {
     "data": {
      "text/plain": [
       "30.0"
      ]
     },
     "execution_count": 27,
     "metadata": {},
     "output_type": "execute_result"
    }
   ],
   "source": [
    "special.perm(6,2)"
   ]
  },
  {
   "cell_type": "code",
   "execution_count": 29,
   "metadata": {},
   "outputs": [
    {
     "data": {
      "text/plain": [
       "15.0"
      ]
     },
     "execution_count": 29,
     "metadata": {},
     "output_type": "execute_result"
    }
   ],
   "source": [
    "special.comb(6,2)"
   ]
  }
 ],
 "metadata": {
  "kernelspec": {
   "display_name": "Python 3",
   "language": "python",
   "name": "python3"
  },
  "language_info": {
   "codemirror_mode": {
    "name": "ipython",
    "version": 3
   },
   "file_extension": ".py",
   "mimetype": "text/x-python",
   "name": "python",
   "nbconvert_exporter": "python",
   "pygments_lexer": "ipython3",
   "version": "3.8.5"
  }
 },
 "nbformat": 4,
 "nbformat_minor": 4
}
